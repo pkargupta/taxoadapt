{
 "cells": [
  {
   "cell_type": "markdown",
   "metadata": {},
   "source": [
    "**Setup**"
   ]
  },
  {
   "cell_type": "code",
   "execution_count": 1,
   "metadata": {},
   "outputs": [],
   "source": [
    "%load_ext autoreload\n",
    "%autoreload 2\n",
    "import os\n",
    "os.environ['HF_HOME'] = '/shared/data3/pk36/.cache'\n",
    "os.environ[\"TOKENIZERS_PARALLELISM\"] = \"false\""
   ]
  },
  {
   "cell_type": "code",
   "execution_count": 2,
   "metadata": {},
   "outputs": [],
   "source": [
    "!export HF_HOME=/shared/data3/pk36/.cache"
   ]
  },
  {
   "cell_type": "code",
   "execution_count": 3,
   "metadata": {},
   "outputs": [],
   "source": [
    "from model_definitions import initializeLLM, promptLLM, constructPrompt\n",
    "import json\n",
    "from utils import clean_json_string\n",
    "from collections import deque\n",
    "from taxonomy import Node"
   ]
  },
  {
   "cell_type": "code",
   "execution_count": 13,
   "metadata": {},
   "outputs": [],
   "source": [
    "class Args:\n",
    "    def __init__(self):\n",
    "        \n",
    "        self.topic = \"natural language processing\"\n",
    "        self.init_dims = 2\n",
    "        self.llm = 'samba'\n",
    "\n",
    "        self.dataset = \"Reasoning\"\n",
    "        self.data_dir = f\"datasets/multi_dim/{self.dataset.lower().replace(' ', '_')}/\"\n",
    "        self.internal = f\"{self.dataset}.txt\"\n",
    "        self.external = f\"{self.dataset}_external.txt\"\n",
    "        self.groundtruth = \"groundtruth.txt\"\n",
    "        \n",
    "        self.length = 512\n",
    "        self.dim = 768\n",
    "\n",
    "        self.iters = 4\n",
    "\n",
    "args = Args()"
   ]
  },
  {
   "cell_type": "code",
   "execution_count": 5,
   "metadata": {},
   "outputs": [
    {
     "name": "stderr",
     "output_type": "stream",
     "text": [
      "/home/pk36/Comparative-Summarization/taxoadapt/env/lib/python3.8/site-packages/transformers/tokenization_utils_base.py:1601: FutureWarning: `clean_up_tokenization_spaces` was not set. It will be set to `True` by default. This behavior will be depracted in transformers v4.45, and will be then set to `False` by default. For more details check this issue: https://github.com/huggingface/transformers/issues/31884\n",
      "  warnings.warn(\n"
     ]
    }
   ],
   "source": [
    "initializeLLM(args)"
   ]
  },
  {
   "cell_type": "markdown",
   "metadata": {},
   "source": [
    "**Construct a 2-Level Multi-Dimensional Taxonomy**"
   ]
  },
  {
   "cell_type": "code",
   "execution_count": 6,
   "metadata": {},
   "outputs": [],
   "source": [
    "from prompts import multi_dim_prompt"
   ]
  },
  {
   "cell_type": "code",
   "execution_count": 7,
   "metadata": {},
   "outputs": [],
   "source": [
    "mod_topic = args.topic.replace(' ', '_').lower()\n",
    "root = Node(\n",
    "        id=0,\n",
    "        label=mod_topic\n",
    "    )\n",
    "id2node = {0:root}\n",
    "# we want to make this a directed acyclic graph (DAG) so maintain a list of the nodes\n",
    "label2node = {mod_topic:root}"
   ]
  },
  {
   "cell_type": "code",
   "execution_count": 8,
   "metadata": {},
   "outputs": [],
   "source": [
    "queue = deque([root])\n",
    "\n",
    "while queue:\n",
    "    curr_node = queue.popleft()\n",
    "    label = curr_node.label\n",
    "    # expand\n",
    "    system_instruction, main_prompt, json_output_format = multi_dim_prompt(curr_node)\n",
    "    prompts = [constructPrompt(args, system_instruction, main_prompt + \"\\n\\n\" + json_output_format)]\n",
    "    outputs = promptLLM(args=args, prompts=prompts, max_new_tokens=2000, json_mode=True, temperature=0.1, top_p=0.99)[0]\n",
    "    outputs = json.loads(clean_json_string(outputs)) if \"```\" in outputs else json.loads(outputs.strip())\n",
    "    outputs = outputs[label]\n",
    "\n",
    "    # add all children\n",
    "    for key, value in outputs.items():\n",
    "        key = key.replace(' ', '_').lower()\n",
    "        if key not in label2node:\n",
    "            child_node = Node(\n",
    "                    id=len(id2node),\n",
    "                    label=key,\n",
    "                    description=value['description'],\n",
    "                    datasets=value['datasets'],\n",
    "                    methodologies=value['methodologies'],\n",
    "                    evaluation_methods=value['evaluation_methods'],\n",
    "                    applications=value['applications'],\n",
    "                    parents=[curr_node]\n",
    "                )\n",
    "            curr_node.add_child(key, child_node)\n",
    "            id2node[child_node.id] = child_node\n",
    "            label2node[key] = child_node\n",
    "            if child_node.level < args.init_dims:\n",
    "                queue.append(child_node)\n",
    "        else:\n",
    "            child_node = label2node[key]\n",
    "            child_node.add_parent(curr_node)\n",
    "            child_node.add_dataset(value['datasets'])\n",
    "            child_node.add_methodology(value['methodologies'])\n",
    "            child_node.add_evaluation_method(value['evaluation_methods'])\n",
    "            child_node.add_application(value['applications'])"
   ]
  },
  {
   "cell_type": "code",
   "execution_count": 9,
   "metadata": {},
   "outputs": [
    {
     "name": "stdout",
     "output_type": "stream",
     "text": [
      "Label: natural_language_processing\n",
      "Description: None\n",
      "Level: 0\n",
      "----------------------------------------\n",
      "Children:\n",
      "     Label: text_classification\n",
      "     Description: The task of assigning predefined categories to text based on its content.\n",
      "     Level: 1\n",
      "     ----------------------------------------\n",
      "     Children:\n",
      "          Label: topic_modeling\n",
      "          Description: Identifying underlying topics or themes in a large corpus of text.\n",
      "          Level: 2\n",
      "          ----------------------------------------\n",
      "          Label: text_classification_for_low_resource_languages\n",
      "          Description: Classifying text in low-resource languages with limited labeled data.\n",
      "          Level: 2\n",
      "          ----------------------------------------\n",
      "          Label: multimodal_text_classification\n",
      "          Description: Classifying text with multimodal inputs (e.g. images, audio, video).\n",
      "          Level: 2\n",
      "          ----------------------------------------\n",
      "          Label: adversarial_text_classification\n",
      "          Description: Classifying text in the presence of adversarial attacks (e.g. text manipulation, noise injection).\n",
      "          Level: 2\n",
      "          ----------------------------------------\n",
      "          Label: explainable_text_classification\n",
      "          Description: Providing explanations for text classification models (e.g. feature importance, model interpretability).\n",
      "          Level: 2\n",
      "          ----------------------------------------\n",
      "     ----------------------------------------\n",
      "     Label: language_modeling\n",
      "     Description: The task of predicting the next word in a sequence of text given the context.\n",
      "     Level: 1\n",
      "     ----------------------------------------\n",
      "     Children:\n",
      "          Label: language_understanding\n",
      "          Description: The ability of a model to comprehend the meaning of text.\n",
      "          Level: 2\n",
      "          ----------------------------------------\n",
      "          Label: language_generation\n",
      "          Description: The ability of a model to generate coherent and natural text.\n",
      "          Level: 2\n",
      "          ----------------------------------------\n",
      "          Label: conversational_ai\n",
      "          Description: The ability of a model to engage in natural-sounding conversations.\n",
      "          Level: 2\n",
      "          ----------------------------------------\n",
      "          Label: multilingual_language_modeling\n",
      "          Description: The ability of a model to understand and generate text in multiple languages.\n",
      "          Level: 2\n",
      "          ----------------------------------------\n",
      "     ----------------------------------------\n",
      "     Label: named_entity_recognition\n",
      "     Description: The task of identifying and categorizing named entities in text.\n",
      "     Level: 1\n",
      "     ----------------------------------------\n",
      "     Children:\n",
      "          Label: entity_extraction\n",
      "          Description: Identifying and extracting specific entities from unstructured text.\n",
      "          Level: 2\n",
      "          ----------------------------------------\n",
      "          Label: entity_disambiguation\n",
      "          Description: Resolving ambiguities and identifying the correct entity from a set of candidates.\n",
      "          Level: 2\n",
      "          ----------------------------------------\n",
      "          Label: entity_linking\n",
      "          Description: Linking extracted entities to a knowledge base or ontology.\n",
      "          Level: 2\n",
      "          ----------------------------------------\n",
      "          Label: entity_typing\n",
      "          Description: Assigning a type or category to an extracted entity.\n",
      "          Level: 2\n",
      "          ----------------------------------------\n",
      "          Label: entity_coreference_resolution\n",
      "          Description: Resolving coreferences between entities in a text.\n",
      "          Level: 2\n",
      "          ----------------------------------------\n",
      "     ----------------------------------------\n",
      "     Label: machine_translation\n",
      "     Description: The task of translating text from one language to another.\n",
      "     Level: 1\n",
      "     ----------------------------------------\n",
      "     Children:\n",
      "          Label: neural_machine_translation\n",
      "          Description: Using neural networks to improve machine translation\n",
      "          Level: 2\n",
      "          ----------------------------------------\n",
      "          Label: statistical_machine_translation\n",
      "          Description: Using statistical models to improve machine translation\n",
      "          Level: 2\n",
      "          ----------------------------------------\n",
      "          Label: hybrid_machine_translation\n",
      "          Description: Combining different approaches to improve machine translation\n",
      "          Level: 2\n",
      "          ----------------------------------------\n",
      "          Label: low_resource_machine_translation\n",
      "          Description: Improving machine translation for low-resource languages\n",
      "          Level: 2\n",
      "          ----------------------------------------\n",
      "          Label: multimodal_machine_translation\n",
      "          Description: Using multimodal data to improve machine translation\n",
      "          Level: 2\n",
      "          ----------------------------------------\n",
      "     ----------------------------------------\n",
      "     Label: question_answering\n",
      "     Description: The task of answering questions based on the content of text.\n",
      "     Level: 1\n",
      "     ----------------------------------------\n",
      "     Children:\n",
      "          Label: extractive_question_answering\n",
      "          Description: Extractive question answering involves identifying the relevant information from a given text to answer a question.\n",
      "          Level: 2\n",
      "          ----------------------------------------\n",
      "          Label: generative_question_answering\n",
      "          Description: Generative question answering involves generating answers to questions based on the context of a given text.\n",
      "          Level: 2\n",
      "          ----------------------------------------\n",
      "          Label: open_domain_question_answering\n",
      "          Description: Open-domain question answering involves answering questions that require knowledge from a wide range of topics and domains.\n",
      "          Level: 2\n",
      "          ----------------------------------------\n",
      "          Label: visual_question_answering\n",
      "          Description: Visual question answering involves answering questions about images or videos.\n",
      "          Level: 2\n",
      "          ----------------------------------------\n",
      "          Label: conversational_question_answering\n",
      "          Description: Conversational question answering involves answering questions in a conversational setting, where the context of the conversation is taken into account.\n",
      "          Level: 2\n",
      "          ----------------------------------------\n",
      "     ----------------------------------------\n",
      "     Label: text_generation\n",
      "     Description: The task of generating text based on a prompt or context.\n",
      "     Level: 1\n",
      "     ----------------------------------------\n",
      "     Children:\n",
      "          Label: text_generation_from_structured_data\n",
      "          Description: The task of generating text from structured data such as tables, graphs, or databases.\n",
      "          Level: 2\n",
      "          ----------------------------------------\n",
      "          Label: style_transfer\n",
      "          Description: The task of transferring the style of one piece of text to another while preserving the content.\n",
      "          Level: 2\n",
      "          ----------------------------------------\n",
      "          Label: dialogue_generation\n",
      "          Description: The task of generating responses to user input in a conversational setting.\n",
      "          Level: 2\n",
      "          ----------------------------------------\n",
      "     ----------------------------------------\n",
      "     Label: sentiment_analysis\n",
      "     Description: The task of determining the sentiment or emotional tone of text.\n",
      "     Level: 1\n",
      "     ----------------------------------------\n",
      "     Children:\n",
      "          Label: aspect_based_sentiment_analysis\n",
      "          Description: Identify sentiment towards specific aspects or features of a product or service\n",
      "          Level: 2\n",
      "          ----------------------------------------\n",
      "          Label: multimodal_sentiment_analysis\n",
      "          Description: Analyze sentiment from multiple sources, such as text, images, and audio\n",
      "          Level: 2\n",
      "          ----------------------------------------\n",
      "          Label: sentiment_analysis_for_low_resource_languages\n",
      "          Description: Develop sentiment analysis models for languages with limited resources\n",
      "          Level: 2\n",
      "          ----------------------------------------\n",
      "          Label: explanation_and_transparency_in_sentiment_analysis\n",
      "          Description: Develop techniques to explain and interpret sentiment analysis models\n",
      "          Level: 2\n",
      "          ----------------------------------------\n",
      "     ----------------------------------------\n",
      "     Label: dialogue_systems\n",
      "     Description: The task of generating responses to user input in a conversation.\n",
      "     Level: 1\n",
      "     ----------------------------------------\n",
      "     Children:\n",
      "          Label: task_oriented_dialogue_systems\n",
      "          Description: Dialogue systems designed to accomplish a specific task, such as booking a flight or making a reservation.\n",
      "          Level: 2\n",
      "          ----------------------------------------\n",
      "          Label: conversational_dialogue_systems\n",
      "          Description: Dialogue systems designed to engage in natural-sounding conversations, often without a specific task in mind.\n",
      "          Level: 2\n",
      "          ----------------------------------------\n",
      "          Label: emotional_dialogue_systems\n",
      "          Description: Dialogue systems designed to recognize and respond to emotions, empathizing with users.\n",
      "          Level: 2\n",
      "          ----------------------------------------\n",
      "          Label: multimodal_dialogue_systems\n",
      "          Description: Dialogue systems that incorporate multiple modalities, such as text, speech, and vision.\n",
      "          Level: 2\n",
      "          ----------------------------------------\n",
      "     ----------------------------------------\n",
      "----------------------------------------\n"
     ]
    }
   ],
   "source": [
    "root.display(0, indent_multiplier=5, simple=True)"
   ]
  },
  {
   "cell_type": "markdown",
   "metadata": {},
   "source": [
    "**Read in dataset**"
   ]
  },
  {
   "cell_type": "code",
   "execution_count": 10,
   "metadata": {},
   "outputs": [],
   "source": [
    "from datasets import load_dataset\n",
    "from tqdm import tqdm"
   ]
  },
  {
   "cell_type": "code",
   "execution_count": 11,
   "metadata": {},
   "outputs": [],
   "source": [
    "if not os.path.exists(args.data_dir):\n",
    "    os.makedirs(args.data_dir)"
   ]
  },
  {
   "cell_type": "code",
   "execution_count": 12,
   "metadata": {},
   "outputs": [],
   "source": [
    "ds = load_dataset(\"TimSchopf/nlp_taxonomy_data\")"
   ]
  },
  {
   "cell_type": "code",
   "execution_count": null,
   "metadata": {},
   "outputs": [
    {
     "name": "stderr",
     "output_type": "stream",
     "text": [
      "100%|██████████| 178521/178521 [00:13<00:00, 13026.63it/s]\n"
     ]
    },
    {
     "name": "stdout",
     "output_type": "stream",
     "text": [
      "8672 169849\n"
     ]
    }
   ],
   "source": [
    "with open(os.path.join(args.data_dir, 'external.txt'), 'w') as e, open(os.path.join(args.data_dir, 'internal.txt'), 'w') as i:\n",
    "    external_count = 0\n",
    "    internal_count = 0\n",
    "    for p in tqdm(ds['train']):\n",
    "        temp_dict = {\"Title\": p['title'], \"Abstract\": p['abstract']}\n",
    "        formatted_dict = json.dumps(temp_dict)\n",
    "        if (args.dataset in p['classification_labels']):\n",
    "            i.write(f'{formatted_dict}\\n')\n",
    "            internal_count += 1\n",
    "        else:\n",
    "            e.write(f'{formatted_dict}\\n')\n",
    "            external_count += 1\n",
    "print(f'Internal: {internal_count}, External Count: {external_count}')"
   ]
  },
  {
   "cell_type": "markdown",
   "metadata": {},
   "source": [
    "**Enrich each node with a set of terms**"
   ]
  },
  {
   "cell_type": "code",
   "execution_count": null,
   "metadata": {},
   "outputs": [
    {
     "data": {
      "text/plain": [
       "{0: Node(label=natural_language_processing, description=None, level=0),\n",
       " 1: Node(label=text_classification, description=The task of assigning predefined categories to text based on its content., level=1),\n",
       " 2: Node(label=language_modeling, description=The task of predicting the next word in a sequence of text given the context., level=1),\n",
       " 3: Node(label=named_entity_recognition, description=The task of identifying and categorizing named entities in text into predefined categories., level=1),\n",
       " 4: Node(label=machine_translation, description=The task of translating text from one language to another., level=1),\n",
       " 5: Node(label=question_answering, description=The task of answering questions based on the content of a given text., level=1),\n",
       " 6: Node(label=text_summarization, description=The task of summarizing a long piece of text into a shorter summary., level=1),\n",
       " 7: Node(label=dialogue_systems, description=The task of generating responses to user input in a conversational setting., level=1),\n",
       " 8: Node(label=sentiment_analysis, description=The task of determining the sentiment or emotional tone of a piece of text., level=1),\n",
       " 9: Node(label=sentiment_analysis, description=Determining the emotional tone or sentiment behind a piece of text., level=2),\n",
       " 10: Node(label=topic_modeling, description=Identifying underlying topics or themes in a large corpus of text., level=2),\n",
       " 11: Node(label=named_entity_recognition, description=Identifying and categorizing named entities in text, such as people, places, and organizations., level=2),\n",
       " 12: Node(label=text_classification_for_low_resource_languages, description=Classifying text in low-resource languages with limited training data., level=2),\n",
       " 13: Node(label=multimodal_text_classification, description=Classifying text with multimodal inputs, such as images or audio., level=2),\n",
       " 14: Node(label=language_understanding, description=The ability of a model to comprehend the meaning of text, including entities, relationships, and context., level=2),\n",
       " 15: Node(label=language_generation, description=The ability of a model to generate coherent and natural-sounding text, including text summarization, machine translation, and chatbots., level=2),\n",
       " 16: Node(label=language_translation, description=The ability of a model to translate text from one language to another, including machine translation and cross-lingual language understanding., level=2),\n",
       " 17: Node(label=multimodal_language_modeling, description=The ability of a model to process and generate text and other modalities, such as images and audio, including multimodal machine translation and multimodal dialogue systems., level=2),\n",
       " 18: Node(label=named_entity_disambiguation, description=Identifying the correct entity from a set of candidates based on the context., level=2),\n",
       " 19: Node(label=named_entity_recognition_in_low_resource_languages, description=Developing NER models for languages with limited annotated data., level=2),\n",
       " 20: Node(label=named_entity_recognition_in_noisy_text, description=Developing NER models that can handle noisy or unstructured text data., level=2),\n",
       " 21: Node(label=named_entity_normalization, description=Normalizing entity mentions to a standard form., level=2),\n",
       " 22: Node(label=named_entity_relation_extraction, description=Extracting relationships between entities in text., level=2),\n",
       " 23: Node(label=neural_machine_translation, description=Using neural networks to improve machine translation, level=2),\n",
       " 24: Node(label=statistical_machine_translation, description=Using statistical models to improve machine translation, level=2),\n",
       " 25: Node(label=hybrid_machine_translation, description=Combining multiple approaches for machine translation, level=2),\n",
       " 26: Node(label=low_resource_machine_translation, description=Improving machine translation for low-resource languages, level=2),\n",
       " 27: Node(label=multimodal_machine_translation, description=Using multimodal data for machine translation, level=2),\n",
       " 28: Node(label=extractive_question_answering, description=Extractive question answering involves identifying the relevant information in a given text to answer a question., level=2),\n",
       " 29: Node(label=generative_question_answering, description=Generative question answering involves generating answers to questions based on the context, without relying on explicit extraction from the text., level=2),\n",
       " 30: Node(label=open_domain_question_answering, description=Open-domain question answering involves answering questions that require knowledge from a wide range of topics and domains., level=2),\n",
       " 31: Node(label=visual_question_answering, description=Visual question answering involves answering questions about images or videos., level=2),\n",
       " 32: Node(label=multimodal_question_answering, description=Multimodal question answering involves answering questions that require information from multiple sources, such as text, images, and audio., level=2),\n",
       " 33: Node(label=extractive_summarization, description=Extractive summarization involves selecting the most relevant sentences or phrases from the original text to create a summary., level=2),\n",
       " 34: Node(label=abstractive_summarization, description=Abstractive summarization involves generating a summary that is not necessarily present in the original text, but rather a paraphrased version of it., level=2),\n",
       " 35: Node(label=query-focused_summarization, description=Query-focused summarization involves generating a summary that is relevant to a specific query or topic., level=2),\n",
       " 36: Node(label=multi-document_summarization, description=Multi-document summarization involves generating a summary from multiple documents., level=2),\n",
       " 37: Node(label=task_oriented_dialogue_systems, description=Dialogue systems designed to accomplish a specific task, such as booking a flight or making a reservation., level=2),\n",
       " 38: Node(label=conversational_dialogue_systems, description=Dialogue systems designed to engage in natural-sounding conversations, often without a specific task in mind., level=2),\n",
       " 39: Node(label=emotional_dialogue_systems, description=Dialogue systems designed to recognize and respond to emotions, empathizing with users., level=2),\n",
       " 40: Node(label=multimodal_dialogue_systems, description=Dialogue systems that incorporate multiple modalities, such as text, speech, and vision., level=2),\n",
       " 41: Node(label=aspect_based_sentiment_analysis, description=Identify sentiment towards specific aspects or features of a product or service, level=2),\n",
       " 42: Node(label=multimodal_sentiment_analysis, description=Analyze sentiment from multiple sources such as text, images, and audio, level=2),\n",
       " 43: Node(label=sentiment_analysis_for_low_resource_languages, description=Develop sentiment analysis models for languages with limited resources, level=2),\n",
       " 44: Node(label=explainable_sentiment_analysis, description=Develop models that provide insights into the sentiment analysis process, level=2)}"
      ]
     },
     "execution_count": 72,
     "metadata": {},
     "output_type": "execute_result"
    }
   ],
   "source": [
    "id2node"
   ]
  },
  {
   "cell_type": "code",
   "execution_count": 75,
   "metadata": {},
   "outputs": [
    {
     "data": {
      "text/plain": [
       "(['Supervised learning with conditional random fields',\n",
       "  'Deep learning with recurrent neural networks'],\n",
       " ['Supervised learning with conditional random fields',\n",
       "  'Unsupervised learning with clustering algorithms'])"
      ]
     },
     "execution_count": 75,
     "metadata": {},
     "output_type": "execute_result"
    }
   ],
   "source": [
    "id2node[3].methodologies, id2node[11].methodologies"
   ]
  },
  {
   "cell_type": "code",
   "execution_count": null,
   "metadata": {},
   "outputs": [],
   "source": []
  }
 ],
 "metadata": {
  "kernelspec": {
   "display_name": "env",
   "language": "python",
   "name": "python3"
  },
  "language_info": {
   "codemirror_mode": {
    "name": "ipython",
    "version": 3
   },
   "file_extension": ".py",
   "mimetype": "text/x-python",
   "name": "python",
   "nbconvert_exporter": "python",
   "pygments_lexer": "ipython3",
   "version": "3.8.10"
  }
 },
 "nbformat": 4,
 "nbformat_minor": 2
}
