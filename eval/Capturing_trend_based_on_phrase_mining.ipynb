{
 "cells": [
  {
   "cell_type": "code",
   "execution_count": 11,
   "metadata": {},
   "outputs": [],
   "source": [
    "# Side by side preference\n",
    "\n",
    "# A-only nodes that conform the trend\n",
    "# B-only nodes that conform the trend\n",
    "\n",
    "# EMNLP22: A\n",
    "# EMNLP24: B\n",
    "\n"
   ]
  },
  {
   "cell_type": "code",
   "execution_count": 12,
   "metadata": {},
   "outputs": [],
   "source": [
    "import heapq\n",
    "\n",
    "# Define a function to parse the files into dictionaries\n",
    "def parse_file(file_path):\n",
    "    score_dict = {}\n",
    "    count = 1\n",
    "    with open(file_path, 'r') as file:\n",
    "        for line in file:\n",
    "            parts = line.strip().split('\\t')\n",
    "            if len(parts) == 2:\n",
    "                try:\n",
    "                    score = count\n",
    "                    phrase = parts[1]\n",
    "                    score_dict[phrase] = score\n",
    "                    count += 1\n",
    "                except ValueError:\n",
    "                    pass  # Ignore lines that don't conform to expected format\n",
    "    return score_dict\n",
    "\n",
    "# Parse the two files\n",
    "file_2022 = '/Users/zn1010/Downloads/AutoPhrase-emnlp22.txt'\n",
    "file_2024 = '/Users/zn1010/Downloads/AutoPhrase-emnlp24.txt'\n",
    "scores_A = parse_file(file_2022)\n",
    "scores_B = parse_file(file_2024)"
   ]
  },
  {
   "cell_type": "code",
   "execution_count": 13,
   "metadata": {},
   "outputs": [],
   "source": [
    "import json\n",
    "\n",
    "\n",
    "file_path_A = \"../taxoadapt/datasets/multi_dim/emnlp_2024/final_taxo_real_world_domains.json\"\n",
    "file_path_B = \"../taxoadapt/datasets/multi_dim/emnlp_2024/final_taxo_methodologies.json\"\n",
    "\n",
    "with open(file_path_A, \"r\", encoding=\"utf-8\") as file:\n",
    "    data_A = json.load(file)\n",
    "\n",
    "\n",
    "with open(file_path_B, \"r\", encoding=\"utf-8\") as file:\n",
    "    data_B = json.load(file)\n"
   ]
  },
  {
   "cell_type": "code",
   "execution_count": 14,
   "metadata": {},
   "outputs": [],
   "source": [
    "# Function to recursively collect all 'label' values\n",
    "def collect_labels(obj):\n",
    "    labels = []\n",
    "    if isinstance(obj, dict):\n",
    "        if 'label' in obj:\n",
    "            labels.append(obj['label'])\n",
    "        if 'children' in obj and isinstance(obj['children'], list):\n",
    "            for child in obj['children']:\n",
    "                labels.extend(collect_labels(child))\n",
    "    return labels\n",
    "\n",
    "# Collect all labels\n",
    "labels_A = collect_labels(data_A)\n",
    "labels_B = collect_labels(data_B)"
   ]
  },
  {
   "cell_type": "code",
   "execution_count": 16,
   "metadata": {},
   "outputs": [
    {
     "name": "stdout",
     "output_type": "stream",
     "text": [
      "0.023255813953488372\n",
      "0.0196078431372549\n",
      "0.05813953488372093\n",
      "0.029411764705882353\n"
     ]
    }
   ],
   "source": [
    "# a rough idea of the trend from 2022 to 2024\n",
    "count = 0\n",
    "for l in labels_A:\n",
    "    if l in scores_A:\n",
    "        count += 1\n",
    "print(count / len(labels_A))\n",
    "\n",
    "count = 0\n",
    "for l in labels_B:\n",
    "    if l in scores_A:\n",
    "        count += 1\n",
    "print(count / len(labels_B))\n",
    "\n",
    "count = 0\n",
    "for l in labels_A:\n",
    "    if l in scores_B:\n",
    "        count += 1\n",
    "print(count / len(labels_A))\n",
    "\n",
    "count = 0\n",
    "for l in labels_B:\n",
    "    if l in scores_B:\n",
    "        count += 1\n",
    "print(count / len(labels_B))"
   ]
  },
  {
   "cell_type": "code",
   "execution_count": 17,
   "metadata": {},
   "outputs": [],
   "source": [
    "labels_A = set(labels_A)\n",
    "labels_B = set(labels_B)\n",
    "unique_setA = labels_A - labels_B\n",
    "unique_setB = labels_B - labels_A"
   ]
  },
  {
   "cell_type": "code",
   "execution_count": 28,
   "metadata": {},
   "outputs": [
    {
     "name": "stdout",
     "output_type": "stream",
     "text": [
      "A-only nodes that conform the trend: 0.0\n"
     ]
    }
   ],
   "source": [
    "# A-only nodes that conform the trend\n",
    "\n",
    "num_conform, count = 0, 0\n",
    "for node in unique_setA:\n",
    "    if node in scores_A and node not in scores_B:\n",
    "        num_conform += 1\n",
    "        count += 1\n",
    "    elif node not in scores_A and node in scores_B:\n",
    "        num_conform -= 1\n",
    "        count += 1\n",
    "    elif node in scores_A and node in scores_B:\n",
    "        count += 1\n",
    "        rankA = scores_A[node] / len(scores_A)\n",
    "        rankB = scores_B[node] / len(scores_B)\n",
    "        \n",
    "        # if node is ranked higher in 2022 than 2024\n",
    "        if rankA < rankB:\n",
    "            num_conform += 1\n",
    "        else:\n",
    "            num_conform -= 1\n",
    "\n",
    "if num_conform < 0:\n",
    "    num_conform = 0\n",
    "print(\"A-only nodes that conform the trend:\", num_conform / count)"
   ]
  },
  {
   "cell_type": "code",
   "execution_count": 31,
   "metadata": {},
   "outputs": [
    {
     "name": "stdout",
     "output_type": "stream",
     "text": [
      "B-only nodes that conform the trend: 0.0\n"
     ]
    }
   ],
   "source": [
    "# B-only nodes that conform the trend\n",
    "\n",
    "num_conform, count = 0, 0\n",
    "for node in unique_setB:\n",
    "    if node in scores_A and node not in scores_B:\n",
    "        num_conform -= 1\n",
    "        count += 1\n",
    "    elif node not in scores_A and node in scores_B:\n",
    "        num_conform += 1\n",
    "        count += 1\n",
    "    elif node in scores_A and node in scores_B:\n",
    "        count += 1\n",
    "        rankA = scores_A[node] / len(scores_A)\n",
    "        rankB = scores_B[node] / len(scores_B)\n",
    "        if rankA > rankB:\n",
    "            num_conform += 1\n",
    "        else:\n",
    "            num_conform -= 1\n",
    "\n",
    "if num_conform < 0:\n",
    "    num_conform = 0\n",
    "print(\"B-only nodes that conform the trend:\", num_conform / count)"
   ]
  }
 ],
 "metadata": {
  "kernelspec": {
   "display_name": "base",
   "language": "python",
   "name": "python3"
  },
  "language_info": {
   "codemirror_mode": {
    "name": "ipython",
    "version": 3
   },
   "file_extension": ".py",
   "mimetype": "text/x-python",
   "name": "python",
   "nbconvert_exporter": "python",
   "pygments_lexer": "ipython3",
   "version": "3.12.4"
  }
 },
 "nbformat": 4,
 "nbformat_minor": 2
}
